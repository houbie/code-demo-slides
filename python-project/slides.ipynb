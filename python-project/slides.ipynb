{
 "cells": [
  {
   "cell_type": "markdown",
   "id": "87e1ffcc",
   "metadata": {
    "slideshow": {
     "slide_type": "slide"
    }
   },
   "source": [
    "# Demo project code from within your slides\n",
    "\n",
    "\n",
    "## Getting started\n",
    "\n",
    "```shell\n",
    "git checkout https://github.com/houbie/code-demo-slides.git\n",
    "cd code-demo-slides/python-project-slides\n",
    "./pw start # omit ./ on windows: pw start\n",
    "```\n",
    "\n",
    "<div class=\"alert alert-block alert-info\">\n",
    "    <b>NOTE:</b> Make sure Python >=3.7 is available on your path by running <em>python --version</em></div>"
   ]
  },
  {
   "cell_type": "code",
   "execution_count": null,
   "id": "929218e4",
   "metadata": {
    "slideshow": {
     "slide_type": "slide"
    }
   },
   "outputs": [],
   "source": [
    "# the project and all required libraries are automatically available here\n",
    "from python_project_slides import plot\n",
    "\n",
    "plot.simple_plot()\n"
   ]
  }
 ],
 "metadata": {
  "celltoolbar": "Diavoorstelling",
  "kernelspec": {
   "display_name": "Python 3 (ipykernel)",
   "language": "python",
   "name": "python3"
  },
  "language_info": {
   "codemirror_mode": {
    "name": "ipython",
    "version": 3
   },
   "file_extension": ".py",
   "mimetype": "text/x-python",
   "name": "python",
   "nbconvert_exporter": "python",
   "pygments_lexer": "ipython3",
   "version": "3.10.0"
  }
 },
 "nbformat": 4,
 "nbformat_minor": 5
}