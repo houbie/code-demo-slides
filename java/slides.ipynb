{
 "cells": [
  {
   "cell_type": "markdown",
   "id": "87e1ffcc",
   "metadata": {
    "slideshow": {
     "slide_type": "slide"
    }
   },
   "source": [
    "# Demo java code from within your slides\n",
    "\n",
    "\n",
    "## Getting started\n",
    "\n",
    "```shell\n",
    "cd code-demo-slides/java\n",
    "# windows: pw start (without ./)\n",
    "./pw start\n",
    "```\n",
    "\n",
    "<div class=\"alert alert-block alert-info\">\n",
    "    <b>NOTE:</b> Make sure Python >=3.8 is available on your path by running <em>python --version</em></div>\n",
    "<div class=\"alert alert-block alert-info\">\n",
    "    <b>NOTE:</b> Make sure Java >=9 is available on your path by running <em>java -version</em></div>\n"
   ]
  },
  {
   "cell_type": "code",
   "execution_count": null,
   "id": "929218e4",
   "metadata": {
    "slideshow": {
     "slide_type": "slide"
    }
   },
   "outputs": [],
   "source": [
    "System.out.println(\"Look ma, I'm running a piece of Java inside my slides!\");"
   ]
  },
  {
   "cell_type": "markdown",
   "id": "30ac4abd",
   "metadata": {
    "slideshow": {
     "slide_type": "slide"
    }
   },
   "source": [
    "## Import\n",
    "You can [customize the notebook's classpath](https://github.com/SpencerPark/IJava/blob/master/docs/magics.md#addmavendependencies) by adding directories, jar files or maven artefacts."
   ]
  },
  {
   "cell_type": "code",
   "execution_count": null,
   "id": "f03a9281",
   "metadata": {
    "slideshow": {
     "slide_type": "subslide"
    }
   },
   "outputs": [],
   "source": [
    "%maven org.knowm.xchart:xchart:3.8.1\n",
    "\n",
    "import org.knowm.xchart.*;\n",
    "double[] xData = new double[] {0.0, 1.0, 2.0};\n",
    "double[] yData = new double[] {0.0, 1.0, 0.0};\n",
    "\n",
    "XYChart chart = QuickChart.getChart(\"Sample Chart\", \"X\", \"Y\", \"y(x)\", xData, yData);\n",
    "BitmapEncoder.getBufferedImage(chart);\n"
   ]
  }
 ],
 "metadata": {
  "celltoolbar": "Diavoorstelling",
  "kernelspec": {
   "display_name": "Java",
   "language": "java",
   "name": "java"
  },
  "language_info": {
   "codemirror_mode": "java",
   "file_extension": ".jshell",
   "mimetype": "text/x-java-source",
   "name": "Java",
   "pygments_lexer": "java",
   "version": "11.0.8+10"
  }
 },
 "nbformat": 4,
 "nbformat_minor": 5
}