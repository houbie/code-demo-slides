{
 "cells": [
  {
   "cell_type": "markdown",
   "id": "87e1ffcc",
   "metadata": {
    "kernel": "SoS",
    "slideshow": {
     "slide_type": "slide"
    }
   },
   "source": [
    "# Kickstart your slides with embeded code and demos\n",
    "\n",
    "* _(probably ;)_ Nothing to install\n",
    "    * If you're a developer, Python >=3.8 is probably already installed\n",
    "* Write slides in plain Markdown\n",
    "    * Including embedded code snippets\n",
    "* Embed live demos\n",
    "    * Avoid leaving the presentation/juggling with windows"
   ]
  },
  {
   "cell_type": "markdown",
   "id": "809686a4",
   "metadata": {
    "kernel": "SoS",
    "slideshow": {
     "slide_type": "slide"
    }
   },
   "source": [
    "## Getting started\n",
    "\n",
    "```shell\n",
    "git clone https://github.com/houbie/code-demo-slides.git\n",
    "cd code-demo-slides/demo-slides\n",
    "# windows: pw start (without ./)\n",
    "./pw start\n",
    "```\n",
    "\n",
    "<div class=\"alert alert-block alert-info\">\n",
    "    <b>NOTE:</b> Make sure Python >=3.8 is available on your path by running <em>python --version</em></div>"
   ]
  },
  {
   "cell_type": "markdown",
   "id": "5a74ab42",
   "metadata": {
    "kernel": "SoS",
    "slideshow": {
     "slide_type": "slide"
    }
   },
   "source": [
    "## Presenting\n",
    "\n",
    "* Open the notebook with `./pw start` and click on the <i class=\"fa-bar-chart fa\"></i> button (or use the **Alt+R** shortcut)\n",
    "* In presentation mode, you can click on the **?** to get help.\n",
    "* You can find the [full instructions in the Rise documentation](https://rise.readthedocs.io/en/stable/usage.html#usage)\n"
   ]
  },
  {
   "cell_type": "markdown",
   "id": "c6d6f404",
   "metadata": {
    "kernel": "SoS",
    "slideshow": {
     "slide_type": "slide"
    }
   },
   "source": [
    "## Editing\n",
    "* To edit a cell's content: click on the cell (or hit **Enter** to edit the focussed cell)\n",
    "* To run a code cell or render a Markdown cell: click the execute button or hit **Ctrl+Enter**"
   ]
  },
  {
   "cell_type": "markdown",
   "id": "1a383359",
   "metadata": {
    "kernel": "SoS",
    "slideshow": {
     "slide_type": "slide"
    }
   },
   "source": [
    "## Slides types\n",
    "* Slides\n",
    "* Sub-slides\n",
    "* Fragments\n",
    "* Skipped\n",
    "* Speaker notes"
   ]
  },
  {
   "cell_type": "markdown",
   "id": "da36579b",
   "metadata": {
    "kernel": "SoS",
    "slideshow": {
     "slide_type": "subslide"
    }
   },
   "source": [
    "## Subslide with fragments\n",
    "In presentation mode, use the spacebar to show the next fragments"
   ]
  },
  {
   "cell_type": "markdown",
   "id": "9cfdae49",
   "metadata": {
    "kernel": "SoS",
    "slideshow": {
     "slide_type": "fragment"
    }
   },
   "source": [
    "Fragment 1\n",
    "![Jupyter logo](assets/jupyter.png)"
   ]
  },
  {
   "cell_type": "markdown",
   "id": "0c2ccf23",
   "metadata": {
    "kernel": "SoS",
    "slideshow": {
     "slide_type": "fragment"
    }
   },
   "source": [
    "You can use fragments to mimic animations\n",
    "<img src=\"assets/px.png\" alt=\"PX\" style=\"position:absolute;top:-200px;left:40%\">"
   ]
  },
  {
   "cell_type": "markdown",
   "id": "783aecb3",
   "metadata": {
    "kernel": "SoS",
    "slideshow": {
     "slide_type": "skip"
    }
   },
   "source": [
    "## Skipped\n",
    "This cell will be skipped in the slides"
   ]
  },
  {
   "cell_type": "markdown",
   "id": "060585eb",
   "metadata": {
    "kernel": "SoS",
    "slideshow": {
     "slide_type": "notes"
    }
   },
   "source": [
    "## Speaker notes\n",
    "Hit _t_ to show the speaker notes while in presentation mode."
   ]
  },
  {
   "cell_type": "markdown",
   "id": "5ec2141e",
   "metadata": {
    "kernel": "SoS",
    "slideshow": {
     "slide_type": "slide"
    }
   },
   "source": [
    "## Embedding code\n",
    "* json example\n",
    "```json\n",
    "{ \n",
    "    \"user\": \"houbie\",\n",
    "    \"project\": \"code-demo-slides\"\n",
    "}\n",
    "```\n",
    "\n",
    "* Java example\n",
    "```java\n",
    "// print Hello world in java\n",
    "System.out.println(\"Hello world!\");\n",
    "```"
   ]
  },
  {
   "cell_type": "markdown",
   "id": "e4b732df",
   "metadata": {
    "kernel": "SoS",
    "slideshow": {
     "slide_type": "slide"
    }
   },
   "source": [
    "## Execute code / run demo\n",
    "Built-in:\n",
    "* shell\n",
    "* Python\n",
    "* JavaScript\n",
    "\n",
    "Click the execute button or hit Ctrl+Enter to execute the focussed code cell.\n",
    "\n",
    "No need to leave presentation mode and jugle with open windows and terminals 😃\n",
    "\n",
    "<div class=\"alert alert-block alert-info\">\n",
    "    <b>NOTE:</b> Clear all output before starting your presentation or your demo will be spoiled with the previous output!</div>"
   ]
  },
  {
   "cell_type": "code",
   "execution_count": null,
   "id": "76775b7b",
   "metadata": {
    "kernel": "Bash",
    "scrolled": true,
    "slideshow": {
     "slide_type": "subslide"
    }
   },
   "outputs": [],
   "source": [
    "! echo \"Start with an exclamation mark (!) to run shell commands\"\n",
    "! ./pw -i"
   ]
  },
  {
   "cell_type": "code",
   "execution_count": null,
   "id": "f5a6216d",
   "metadata": {
    "kernel": "Python 3 (ipykernel)",
    "slideshow": {
     "slide_type": "subslide"
    }
   },
   "outputs": [],
   "source": [
    "%%sh\n",
    "echo \"%%sh allows you to omit the exclamation mark, at the cost of separating out and err outputs\"\n",
    "./pw -i"
   ]
  },
  {
   "cell_type": "code",
   "execution_count": null,
   "id": "9a230d2e",
   "metadata": {
    "kernel": "SoS",
    "slideshow": {
     "slide_type": "subslide"
    }
   },
   "outputs": [],
   "source": [
    "from datetime import date\n",
    "\n",
    "print(\"Today's date:\", date.today().strftime(\"%b-%d-%Y\"))\n"
   ]
  },
  {
   "cell_type": "code",
   "execution_count": null,
   "id": "f3e0d76d",
   "metadata": {
    "kernel": "Python 3 (ipykernel)",
    "slideshow": {
     "slide_type": "subslide"
    }
   },
   "outputs": [],
   "source": [
    "%%javascript\n",
    "alert('Hello Python from JavaScript!')"
   ]
  },
  {
   "cell_type": "code",
   "execution_count": null,
   "id": "d677264c",
   "metadata": {
    "kernel": "SoS",
    "slideshow": {
     "slide_type": "subslide"
    }
   },
   "outputs": [],
   "source": [
    "# you can scroll long output <i class=\"fa-angle-double-down fa\"></i>\n",
    "import time\n",
    "for i in range(500):\n",
    "    time.sleep(0.01)\n",
    "    print('Iteration', i)"
   ]
  },
  {
   "cell_type": "markdown",
   "id": "36ac3310",
   "metadata": {
    "kernel": "SoS",
    "slideshow": {
     "slide_type": "slide"
    }
   },
   "source": [
    "## Embedding images"
   ]
  },
  {
   "cell_type": "markdown",
   "id": "2fedb7dc",
   "metadata": {
    "kernel": "SoS",
    "slideshow": {
     "slide_type": "subslide"
    }
   },
   "source": [
    "The normal markdown way: `![Jupiter logo](assets/jupyter.png)`\n",
    "\n",
    "![Jupiter logo](assets/jupyter.png)"
   ]
  },
  {
   "cell_type": "markdown",
   "id": "f27c3d78",
   "metadata": {
    "kernel": "SoS",
    "slideshow": {
     "slide_type": "subslide"
    }
   },
   "source": [
    "Use html when you need to control the size, caption, etc.\n",
    "\n",
    "```html\n",
    "<figure>\n",
    "    <img src=\"assets/jupyter.png\" alt=\"Jupyter\" width=\"200\" height=\"100\" align=\"left\" style=\"border: 5px solid black\">\n",
    "    <figcaption><em>The jupyter logo</em></figcaption>\n",
    "</figure>\n",
    "```\n",
    "\n",
    "<figure>\n",
    "    <img src=\"assets/jupyter.png\" alt=\"Jupyter\" width=\"200\" height=\"100\" align=\"left\" style=\"border: 5px solid black\">\n",
    "    <figcaption><em>The jupyter logo</em></figcaption>\n",
    "</figure>"
   ]
  },
  {
   "cell_type": "markdown",
   "id": "23f44e52",
   "metadata": {
    "kernel": "SoS",
    "slideshow": {
     "slide_type": "slide"
    }
   },
   "source": [
    " # Styling & customizing\n",
    "\n",
    "The [RISE documentation](https://rise.readthedocs.io/en/stable/customize.html) explains how you can customize your slide show.\n",
    "\n",
    "\n",
    "To add a logo to each slide, f.e., you can create a _rise.css_ file:\n",
    "```css\n",
    ".slides {\n",
    "    background-image: url(\"assets/px.png\");\n",
    "    background-position: right 0 top 15px;\n",
    "    background-repeat: no-repeat;\n",
    "    background-size: 8%;\n",
    "}\n",
    "```\n"
   ]
  },
  {
   "cell_type": "markdown",
   "id": "5daba038",
   "metadata": {
    "kernel": "SoS",
    "pycharm": {
     "name": "#%% md\n"
    },
    "slideshow": {
     "slide_type": "slide"
    }
   },
   "source": [
    "## Convert slides to static html\n",
    "\n",
    "You can run `jupyter nbconvert --to slides *.ipynb` to generate static html.\n",
    "\n",
    "There's one caveat: when converting the notebook, custom styles get lost.\n",
    "\n",
    "To solve this, you can run `./pw generate-slides`. This alias adds the _rise.css_ stylesheet by running the _process_html_ script:\n",
    "\n",
    "```toml\n",
    "[tool.pyprojectx.aliases]\n",
    "start = \"jupyter notebook slides.ipynb\"\n",
    "generate-slides = \"jupyter nbconvert --to slides *.ipynb && python -m process_html\"\n",
    "```\n",
    "\n",
    "<div class=\"alert alert-block alert-info\">\n",
    "    <b>NOTE: </b> The output of <em>generate-slides</em> can be used to publish the slides with embedded demo output </div>"
   ]
  },
  {
   "cell_type": "markdown",
   "id": "58091c94",
   "metadata": {
    "kernel": "SoS",
    "slideshow": {
     "slide_type": "slide"
    }
   },
   "source": [
    "## The pw wrapper scripts\n",
    "The [pyprojectx](https://pyprojectx.github.io/) wrapper scripts, _pw_ and _pw.bat_, make sure that all required tools are installed inside the _.pyprojectx_ subfolder. This brings some benefits:\n",
    "* no global installs, no version conflicts\n",
    "* convenient commands like `./pw start` (try `./pw s` if you don't like to type, or even `px s` after running `./pw --init global`)\n"
   ]
  },
  {
   "cell_type": "markdown",
   "id": "5e81ce7b",
   "metadata": {
    "kernel": "SoS",
    "slideshow": {
     "slide_type": "slide"
    }
   },
   "source": [
    "## Pinning jupyter versions\n",
    "When starting the _demo-slides_ with `./pw start`, a specific version of jupyter and RISE are used to make sure\n",
    "that it keeps on working, even after a jupyter release with breaking changes.\n",
    "\n",
    "_pyproject.toml_:\n",
    "```toml\n",
    "[tool.pyprojectx.jupyter]\n",
    "requirements = [\n",
    "    \"IPython ~=8.8\",\n",
    "    \"ipykernel ~=6.20\",\n",
    "    \"ipywidgets ~=8.0\",\n",
    "    \"jupyter_client ~=7.4\",\n",
    "    \"jupyter_core ~=5.1\",\n",
    "    \"nbclient ~=0.7\",\n",
    "    \"nbconvert ~=7.2\",\n",
    "    \"nbformat ~=5.7\",\n",
    "    \"notebook ~=6.5\",\n",
    "    \"qtconsole ~=5.4\",\n",
    "    \"traitlets ~=5.8\",\n",
    "    \"RISE ~=5.7\",\n",
    "    \"jupyter_contrib_nbextensions ~=0.7\",\n",
    "]\n",
    "post-install = \"\"\"\n",
    "jupyter contrib nbextension install --sys-prefix\n",
    "jupyter nbextension enable autoscroll/main --sys-prefix\n",
    "jupyter nbextension enable scroll_down/main --sys-prefix\"\"\"\n",
    "```"
   ]
  },
  {
   "cell_type": "markdown",
   "id": "bb071784",
   "metadata": {
    "kernel": "SoS",
    "slideshow": {
     "slide_type": "subslide"
    }
   },
   "source": [
    "If you're comfortable with the latest and greatest, you can use `./pw latest-start` (or `./pw lS`).\n",
    "\n",
    "But be aware that things can break in the future!\n",
    "\n",
    "```toml\n",
    "[tool.pyprojectx.jupyter-latest]\n",
    "requirements = [\n",
    "    \"jupyter\",\n",
    "    \"RISE\",\n",
    "    \"jupyter_contrib_nbextensions\",\n",
    "]\n",
    "\n",
    "[tool.pyprojectx.aliases]\n",
    "latest-start = \"@jupyter-latest: jupyter notebook slides.ipynb -y\"\n",
    "```\n"
   ]
  }
 ],
 "metadata": {
  "celltoolbar": "Diavoorstelling",
  "kernelspec": {
   "display_name": "Python 3 (ipykernel)",
   "language": "python",
   "name": "python3"
  },
  "language_info": {
   "codemirror_mode": {
    "name": "ipython",
    "version": 3
   },
   "file_extension": ".py",
   "mimetype": "text/x-python",
   "name": "python",
   "nbconvert_exporter": "python",
   "pygments_lexer": "ipython3",
   "version": "3.9.13"
  },
  "sos": {
   "kernels": [
    [
     "Bash",
     "bash",
     "bash",
     "",
     "shell"
    ],
    [
     "Python 3 (ipykernel)",
     "python3",
     "python3",
     "",
     {
      "name": "ipython",
      "version": 3
     }
    ],
    [
     "SoS",
     "sos",
     "",
     "",
     "sos"
    ]
   ],
   "panel": {
    "displayed": false,
    "height": 0
   },
   "version": "0.23.1"
  }
 },
 "nbformat": 4,
 "nbformat_minor": 5
}
