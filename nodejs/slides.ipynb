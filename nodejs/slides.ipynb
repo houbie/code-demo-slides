{
 "cells": [
  {
   "cell_type": "markdown",
   "id": "87e1ffcc",
   "metadata": {
    "kernel": "SoS",
    "slideshow": {
     "slide_type": "slide"
    }
   },
   "source": [
    "# Demo project code from within your slides\n",
    "\n",
    "\n",
    "## Getting started\n",
    "\n",
    "```shell\n",
    "cd code-demo-slides/nodejs\n",
    "# windows: pw start (without ./)\n",
    "./pw start\n",
    "```\n",
    "\n",
    "<div class=\"alert alert-block alert-info\">\n",
    "    <b>NOTE:</b> Make sure Python >=3.8 is available on your path by running <em>python --version</em></div>\n",
    "<div class=\"alert alert-block alert-info\">\n",
    "    <b>NOTE:</b> Make sure nodejs/npm is available on your path by running <em>npm --version</em></div>"
   ]
  },
  {
   "cell_type": "code",
   "execution_count": null,
   "id": "929218e4",
   "metadata": {
    "kernel": "TypeScript",
    "slideshow": {
     "slide_type": "slide"
    }
   },
   "outputs": [],
   "source": [
    "import {say} from 'cowsay'\n",
    "\n",
    "declare var message: string\n",
    "\n",
    "message = \"I'm a moooodule\"\n",
    "console.log(say({\n",
    "    text : message,\n",
    "    e : \"oO\",\n",
    "    T : \"U \"\n",
    "}))\n"
   ]
  },
  {
   "cell_type": "code",
   "execution_count": null,
   "id": "cc7e3f07",
   "metadata": {
    "kernel": "JavaScript",
    "slideshow": {
     "slide_type": "slide"
    }
   },
   "outputs": [],
   "source": [
    "const cowsay = require('cowsay')\n",
    "\n",
    "console.log(cowsay.say({\n",
    "    text : \"I can also run plain JavaScript\",\n",
    "    e : \"o-\"\n",
    "}))\n"
   ]
  }
 ],
 "metadata": {
  "celltoolbar": "Geen",
  "kernelspec": {
   "display_name": "SoS",
   "language": "sos",
   "name": "sos"
  },
  "language_info": {
   "codemirror_mode": "sos",
   "file_extension": ".sos",
   "mimetype": "text/x-sos",
   "name": "sos",
   "nbconvert_exporter": "sos_notebook.converter.SoS_Exporter",
   "pygments_lexer": "sos"
  },
  "sos": {
   "kernels": [
    [
     "JavaScript",
     "jslab",
     "javascript",
     "",
     ""
    ],
    [
     "TypeScript",
     "tslab",
     "typescript",
     "",
     {
      "mode": "typescript",
      "name": "javascript",
      "typescript": true
     }
    ]
   ],
   "panel": {
    "displayed": false,
    "height": 0
   },
   "version": "0.23.2"
  }
 },
 "nbformat": 4,
 "nbformat_minor": 5
}