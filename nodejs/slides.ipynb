{
 "cells": [
  {
   "cell_type": "markdown",
   "id": "87e1ffcc",
   "metadata": {
    "kernel": "SoS",
    "slideshow": {
     "slide_type": "slide"
    }
   },
   "source": [
    "# Demo project code from within your slides\n",
    "\n",
    "\n",
    "## Getting started\n",
    "\n",
    "```shell\n",
    "git checkout https://github.com/houbie/code-demo-slides.git\n",
    "cd code-demo-slides/python-project-slides\n",
    "./pw start # omit ./ on windows: pw start\n",
    "```\n",
    "\n",
    "<div class=\"alert alert-block alert-info\">\n",
    "    <b>NOTE:</b> Make sure Python >=3.7 and a recent nodejs are installed</div>"
   ]
  },
  {
   "cell_type": "code",
   "execution_count": null,
   "id": "929218e4",
   "metadata": {
    "kernel": "TypeScript",
    "slideshow": {
     "slide_type": "slide"
    }
   },
   "outputs": [],
   "source": [
    "import {say} from 'cowsay'\n",
    "\n",
    "declare var message: string\n",
    "\n",
    "message = \"I'm a moooodule\"\n",
    "console.log(say({\n",
    "    text : message,\n",
    "    e : \"oO\",\n",
    "    T : \"U \"\n",
    "}))\n"
   ]
  },
  {
   "cell_type": "code",
   "execution_count": 21,
   "id": "cc7e3f07",
   "metadata": {
    "kernel": "JavaScript",
    "slideshow": {
     "slide_type": "slide"
    }
   },
   "outputs": [
    {
     "name": "stdout",
     "output_type": "stream",
     "text": [
      " _________________________________\n",
      "< I can also run plain JavaScript >\n",
      " ---------------------------------\n",
      "        \\   ^__^\n",
      "         \\  (o-)\\_______\n",
      "            (__)\\       )\\/\\\n",
      "                ||----w |\n",
      "                ||     ||\n"
     ]
    }
   ],
   "source": [
    "const cowsay = require('cowsay')\n",
    "\n",
    "console.log(cowsay.say({\n",
    "    text : \"I can also run plain JavaScript\",\n",
    "    e : \"o-\"\n",
    "}))\n"
   ]
  }
 ],
 "metadata": {
  "celltoolbar": "Geen",
  "kernelspec": {
   "display_name": "SoS",
   "language": "sos",
   "name": "sos"
  },
  "language_info": {
   "codemirror_mode": "sos",
   "file_extension": ".sos",
   "mimetype": "text/x-sos",
   "name": "sos",
   "nbconvert_exporter": "sos_notebook.converter.SoS_Exporter",
   "pygments_lexer": "sos"
  },
  "sos": {
   "kernels": [
    [
     "JavaScript",
     "jslab",
     "javascript",
     "",
     ""
    ],
    [
     "TypeScript",
     "tslab",
     "typescript",
     "",
     {
      "mode": "typescript",
      "name": "javascript",
      "typescript": true
     }
    ]
   ],
   "panel": {
    "displayed": true,
    "height": 0
   },
   "version": "0.23.1"
  }
 },
 "nbformat": 4,
 "nbformat_minor": 5
}